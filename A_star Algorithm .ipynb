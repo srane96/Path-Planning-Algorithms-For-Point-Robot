{
 "cells": [
  {
   "cell_type": "code",
   "execution_count": 13,
   "metadata": {},
   "outputs": [],
   "source": [
    "import pygame\n",
    "import cv2\n",
    "import numpy as np\n",
    "import math"
   ]
  },
  {
   "cell_type": "code",
   "execution_count": 14,
   "metadata": {},
   "outputs": [],
   "source": [
    "## List of methods to be used\n",
    "def is_in_rect(x,y,p1,p4):\n",
    "    f1 = y - p1[1]\n",
    "    f2 = y - p4[1]\n",
    "    f3 = x - p1[0]\n",
    "    f4 = x - p4[0]\n",
    "    if f1 >= 0 and f2 <= 0 and f3 >= 0 and f4 <=0:\n",
    "        return True\n",
    "\n",
    "def is_in_circle(x,y,h,k,r):\n",
    "    f5 = (x-h)**2 + (y-k)**2 - r**2\n",
    "    if f5 <= 0:\n",
    "        return True\n",
    "\n",
    "def is_in_ellipse(x,y,a,b,h,k):\n",
    "    f6 = ((x-h)**2)/a**2 + ((y-k)**2)/b**2 - 1\n",
    "    if f6 <= 0:\n",
    "        return True\n",
    "\n",
    "def get_line_equation(x,y,p1,p2):\n",
    "    if p2[0] - p1[0] != 0:\n",
    "        m = (p2[1] - p1[1]) / (p2[0] - p1[0])\n",
    "        f = y - p1[1] - m * x + m * p1[0]\n",
    "    else:\n",
    "        f = x - p2[0]\n",
    "    return f\n",
    "\n",
    "def is_poly(x,y,scale):\n",
    "    in_poly1 = False\n",
    "    in_poly2 = False\n",
    "    in_poly3 = False\n",
    "    p1 = [125*scale,94*scale]\n",
    "    p2 = [163*scale,98*scale]\n",
    "    p3 = [150*scale,135*scale]\n",
    "    # Equation of half planes for poly one\n",
    "    f7 = get_line_equation(x,y,p1,p2)\n",
    "    f8 = get_line_equation(x,y,p2,p3)\n",
    "    f9 = get_line_equation(x,y,p1,p3)            \n",
    "    if f7 >= 0 and f8 <= 0 and f9 <=0:\n",
    "        in_poly1 = True\n",
    "    \n",
    "    p1 = [150*scale,135*scale]\n",
    "    p2 = [163*scale,98*scale]\n",
    "    p3 = [163*scale,135*scale]\n",
    "    # Equation of half planes for poly two\n",
    "    f10 = get_line_equation(x,y,p1,p2)\n",
    "    f11 = get_line_equation(x,y,p2,p3)\n",
    "    f12 = get_line_equation(x,y,p1,p3)            \n",
    "    if f10 >= 0 and f11 <= 0 and f12 <=0:\n",
    "        in_poly2 = True\n",
    "    \n",
    "    p1 = [163*scale,135*scale]\n",
    "    p2 = [163*scale,98*scale]\n",
    "    p3 = [170*scale,60*scale]\n",
    "    p4 = [193*scale,98*scale]\n",
    "    p5 = [173*scale,135*scale]\n",
    "    # Equation of half planes for poly three\n",
    "    f13 = get_line_equation(x,y,p1,p2)\n",
    "    f14 = get_line_equation(x,y,p2,p3)\n",
    "    f15 = get_line_equation(x,y,p3,p4)\n",
    "    f16 = get_line_equation(x,y,p4,p5)\n",
    "    f17 = get_line_equation(x,y,p5,p1)\n",
    "    if f13>=0 and f14>=0 and f15>=0 and f16<=0 and f17<=0:\n",
    "        in_poly3 = True\n",
    "        \n",
    "    return in_poly1 or in_poly2 or in_poly3\n",
    "    \n",
    "# Draw obstacles using obstacle points on pygame surface\n",
    "def draw_obstacles(obstacle_set):\n",
    "    for p in obstacle_set:\n",
    "        pxarray[p[0], p[1]] = pygame.Color(0, 0, 0)\n",
    "        pygame.display.update()\n",
    "\n",
    "        \n",
    "def draw_obstacles_bg(img,obstacle_set):\n",
    "    for p in obstacle_set:\n",
    "        img[p[1],p[0]] = 0\n",
    "        \n",
    "### Apply minkowski sum to obstacle points \n",
    "def minkowski_sum(bg,r,obstacle_set,width,height):\n",
    "    new_obstacle_set = set()\n",
    "    for p in obstacle_set:\n",
    "        h = p[0]\n",
    "        k = p[1]\n",
    "        # skip convolution for pixels that are completely inside the circle\n",
    "        if bg[k,h-r] == 0 and bg[k,h+r] == 0 and bg[k-r,h] == 0 and bg[k+r,h] == 0:\n",
    "            continue\n",
    "        for x in range(h-r,h+r):\n",
    "            for y in range(k-r,k+r):\n",
    "                if x < 0 or x >= width or y < 0 or y >= height:\n",
    "                    continue\n",
    "                else:\n",
    "                    f = (x-h)**2 + (y-k)**2 - r**2\n",
    "                    if f <= 0:\n",
    "                        new_obstacle_set.add((x,y))\n",
    "                    \n",
    "    return new_obstacle_set\n",
    "    # using each point find new obstacle points\n",
    "    # don't forget to delete the old one"
   ]
  },
  {
   "cell_type": "code",
   "execution_count": 52,
   "metadata": {},
   "outputs": [],
   "source": [
    "class Node:\n",
    "    def __init__(self):\n",
    "        self.visited = False\n",
    "        self.neighbours = {}\n",
    "        self.prev_node = None\n",
    "        self.on_path = False\n",
    "        self.h_cost = 0\n",
    "        self.g_cost = 0\n",
    "        self.explored = False\n",
    "        \n",
    "class Graph:\n",
    "    # graph constructor that creates an empty dictionary\n",
    "    # nodes = {(x,y):Node} where x,y are coordinates of node\n",
    "    def __init__(self):\n",
    "        self.nodes = {}\n",
    "        self.costs = {}\n",
    "    # loop through image and create node object for each pixel\n",
    "    def create_nodes(self,width,height,obstacle_set,goal_x,goal_y):\n",
    "        for x in range(0,width):\n",
    "            for y in range(0,height):\n",
    "                if (x,y) not in obstacle_set:\n",
    "                    self.nodes[(x,y)] = Node()\n",
    "                    self.nodes[(x,y)].h_cost = math.sqrt((x-goal_x)**2 + (y-goal_y)**2)\n",
    "                    #self.costs[(x,y)] = 9999999\n",
    "    # for given pixel and find it's neighbours\n",
    "    def calculate_neighbours(self,node_tuple,width,height):\n",
    "        x = node_tuple[0]\n",
    "        y = node_tuple[1]\n",
    "        dig = 1.41\n",
    "        strght = 1\n",
    "        if (x-1,y-1) not in obstacle_set and x-1  >= 0 and y-1 >= 0:\n",
    "            self.nodes[(x,y)].neighbours[(x-1,y-1)] = dig\n",
    "        if (x,y-1) not in obstacle_set and y-1 >= 0:\n",
    "            self.nodes[(x,y)].neighbours[(x,y-1)] = strght\n",
    "        if (x+1,y-1) not in obstacle_set and x+1 < width and y-1 >=0:\n",
    "            self.nodes[(x,y)].neighbours[(x+1,y-1)] = dig\n",
    "        if (x-1,y) not in obstacle_set and x-1 >= 0:\n",
    "            self.nodes[(x,y)].neighbours[(x-1,y)] = strght\n",
    "        if (x+1,y) not in obstacle_set and x+1 < width:\n",
    "            self.nodes[(x,y)].neighbours[(x+1,y)] = strght\n",
    "        if (x-1,y+1) not in obstacle_set and x-1 >= 0 and y+1 < height:\n",
    "            self.nodes[(x,y)].neighbours[(x-1,y+1)] = dig\n",
    "        if (x,y+1) not in obstacle_set and y+1 < height:\n",
    "            self.nodes[(x,y)].neighbours[(x,y+1)] = strght\n",
    "        if (x+1,y+1) not in obstacle_set and x+1 < width and y+1 < height:\n",
    "            self.nodes[(x,y)].neighbours[(x+1,y+1)] = dig\n",
    "    def get_smallest(self,costs,r_x,r_y):\n",
    "        smallest = 9999999;\n",
    "        smallest_key = (r_x,r_y)\n",
    "        for key, value in costs.items():\n",
    "            if self.costs[key] < smallest:\n",
    "                smallest = value\n",
    "                smallest_key = key\n",
    "            elif self.costs[key] == smallest and self.nodes[key].h_cost < self.nodes[smallest_key].h_cost:\n",
    "                smallest = value\n",
    "                smallest_key = key\n",
    "        return smallest_key\n",
    "    # get shortest path using Dijkstra algorithm\n",
    "    def a_star_algo(self,rob_x,rob_y,goal_x,goal_y,bg):\n",
    "        # get coordinates for the start node\n",
    "        start_node = (rob_x,rob_y)\n",
    "        # get coordinates for the goal node\n",
    "        goal_node = (goal_x,goal_y)\n",
    "        # make cost of start node zero\n",
    "        self.costs[start_node] = 0\n",
    "        # set current node equal to start node\n",
    "        curr_node = start_node\n",
    "        # loop until goal node is reached\n",
    "        while not curr_node == goal_node:\n",
    "            # loop through each neighbour\n",
    "            # mark current node as visited\n",
    "            self.nodes[curr_node].visited = True\n",
    "            bg[curr_node[1],curr_node[0]] = (0,255,0)\n",
    "            for n in self.nodes[curr_node].neighbours:\n",
    "                # if neighbour is visted skip\n",
    "                if self.nodes[n].visited:\n",
    "                    continue\n",
    "                if not n in self.costs:\n",
    "                    self.costs[n] = 9999999 # initialize h score\n",
    "                self.nodes[n].explored = True\n",
    "                self.nodes[n].g_cost = self.nodes[curr_node].g_cost + self.nodes[curr_node].neighbours[n]\n",
    "                bg[curr_node[1],curr_node[0]] = (0,255,255)\n",
    "                # calculate total cost to go to the node\n",
    "                total_cost = self.nodes[n].g_cost + self.nodes[n].h_cost\n",
    "                # if total cost is less than current cost of the \n",
    "                # neighbour then update it.\n",
    "                if total_cost < self.costs[n]:\n",
    "                    self.costs[n] = total_cost\n",
    "                    self.nodes[n].prev_node = curr_node\n",
    "            # delete cost of current node\n",
    "            del self.costs[curr_node]\n",
    "            # get smallest univisited node with smallest cost\n",
    "            curr_node = self.get_smallest(self.costs,rob_x,rob_y)\n",
    "            #cv2.imshow(\"A Star\",bg)\n",
    "            #cv2.waitKey(1)\n",
    "        # Track the path from goal node to start node and mask nodes on the path\n",
    "        print(\"G cost to reach the goal: \",self.nodes[curr_node].g_cost)\n",
    "        while not self.nodes[curr_node].prev_node == None:\n",
    "            self.nodes[curr_node].on_path = True\n",
    "            curr_node = self.nodes[curr_node].prev_node\n",
    "        cv2.destroyAllWindows()"
   ]
  },
  {
   "cell_type": "code",
   "execution_count": 54,
   "metadata": {},
   "outputs": [
    {
     "name": "stdout",
     "output_type": "stream",
     "text": [
      "G cost to reach the goal:  72.06999999999996\n",
      "0.039920806884765625\n"
     ]
    }
   ],
   "source": [
    "import time\n",
    "# scale the window size\n",
    "scale = 1\n",
    "height = 150*scale\n",
    "width = 250*scale\n",
    "\n",
    "# create a background image\n",
    "bg = np.zeros((height,width,3),dtype=np.uint8)\n",
    "for x in range(0,bg.shape[0]):\n",
    "    for y in range(0,bg.shape[1]):\n",
    "        bg[x,y] = (255,255,255)\n",
    "\n",
    "# Define obstacle point x and y set\n",
    "obstacle_set = set()\n",
    "\n",
    "# iterate for each pixel and find out if it is an obstacle\n",
    "# if it is in the obstacle store it in the obstacle set\n",
    "for x in range(0,width):\n",
    "    for y in range(0,height):\n",
    "        if is_in_rect(x,y,[50*scale,38*scale],[100*scale,83*scale]) or is_in_circle(x,y,190*scale,20*scale,15*scale) or is_in_ellipse(x,y,30*scale,12*scale,140*scale,30*scale) or is_poly(x,y,scale):\n",
    "            obstacle_set.add((x,y))\n",
    "            bg[y,x] = (0,0,0)  \n",
    "\n",
    "# Calculate Mikowski space\n",
    "#r = 10\n",
    "#obstacle_set = minkowski_sum(bg,r*scale,obstacle_set,width,height)\n",
    "draw_obstacles_bg(bg,obstacle_set)\n",
    "cv2.imwrite(\"background_no_min.png\",bg)\n",
    "\n",
    "#print(node,\": \",graph.nodes[node].neighbours)                     \n",
    "# Take user input\n",
    "x_r = 190\n",
    "y_r = 4\n",
    "x_g = 190\n",
    "y_g = 36\n",
    "\n",
    "graph = Graph()\n",
    "graph.create_nodes(width, height, obstacle_set, x_g, y_g)\n",
    "for node in graph.nodes:\n",
    "    graph.calculate_neighbours(node,width,height)\n",
    "\n",
    "# define color for visited node\n",
    "green = (60,179,113)\n",
    "# define color for unvisited node\n",
    "grey = (192,192,192)\n",
    "# define color for the nodes on the path\n",
    "blue = (250,50,50)\n",
    "# color for explored node\n",
    "yellow = (0,255,255)\n",
    "# \n",
    "start_time = time.time()\n",
    "graph.a_star_algo(x_r,y_r,x_g,y_g,bg)\n",
    "elapsed = time.time() - start_time\n",
    "print(elapsed)\n",
    "for node in graph.nodes:\n",
    "        if graph.nodes[node].visited == False:\n",
    "            bg[node[1],node[0]] = grey\n",
    "        if graph.nodes[node].explored == True:\n",
    "            bg[node[1],node[0]] = yellow\n",
    "        if graph.nodes[node].visited == True:\n",
    "            bg[node[1],node[0]] = green\n",
    "        if graph.nodes[node].on_path == True:\n",
    "            bg[node[1],node[0]] = blue    \n",
    "            \n",
    "bg = cv2.resize(bg,(3*width,3*height))\n",
    "cv2.imshow(\"A Star\",bg)\n",
    "cv2.waitKey(0)\n",
    "cv2.destroyAllWindows()"
   ]
  },
  {
   "cell_type": "code",
   "execution_count": 50,
   "metadata": {},
   "outputs": [
    {
     "ename": "SyntaxError",
     "evalue": "invalid syntax (<ipython-input-50-fd45678f5f3a>, line 4)",
     "output_type": "error",
     "traceback": [
      "\u001b[1;36m  File \u001b[1;32m\"<ipython-input-50-fd45678f5f3a>\"\u001b[1;36m, line \u001b[1;32m4\u001b[0m\n\u001b[1;33m    print(width*height - len(obstacle_set))1 2\u001b[0m\n\u001b[1;37m                                           ^\u001b[0m\n\u001b[1;31mSyntaxError\u001b[0m\u001b[1;31m:\u001b[0m invalid syntax\n"
     ]
    }
   ],
   "source": [
    "a = list(input('Please enter two numbers'))\n",
    "print(a)\n",
    "print(len(obstacle_set))\n",
    "print(width*height - len(obstacle_set))1 2"
   ]
  },
  {
   "cell_type": "code",
   "execution_count": 15,
   "metadata": {},
   "outputs": [
    {
     "name": "stdout",
     "output_type": "stream",
     "text": [
      "Enter 2 nums2 3\n"
     ]
    }
   ],
   "source": [
    "inp = input(\"Enter 2 nums\")\n",
    "lst = inp.split()"
   ]
  },
  {
   "cell_type": "code",
   "execution_count": 22,
   "metadata": {},
   "outputs": [
    {
     "data": {
      "text/plain": [
       "False"
      ]
     },
     "execution_count": 22,
     "metadata": {},
     "output_type": "execute_result"
    }
   ],
   "source": [
    "not (1,2) == (1,2)"
   ]
  },
  {
   "cell_type": "code",
   "execution_count": 23,
   "metadata": {},
   "outputs": [
    {
     "name": "stdout",
     "output_type": "stream",
     "text": [
      "{'b': 2, 'c': 3}\n"
     ]
    }
   ],
   "source": [
    "test = {'a':1,'b':2,'c':3}\n",
    "del test['a']\n",
    "print(test)"
   ]
  },
  {
   "cell_type": "code",
   "execution_count": 94,
   "metadata": {},
   "outputs": [
    {
     "data": {
      "text/plain": [
       "False"
      ]
     },
     "execution_count": 94,
     "metadata": {},
     "output_type": "execute_result"
    }
   ],
   "source": [
    "(210,150) in obstacle_set"
   ]
  },
  {
   "cell_type": "code",
   "execution_count": null,
   "metadata": {},
   "outputs": [],
   "source": []
  }
 ],
 "metadata": {
  "kernelspec": {
   "display_name": "Python 3",
   "language": "python",
   "name": "python3"
  },
  "language_info": {
   "codemirror_mode": {
    "name": "ipython",
    "version": 3
   },
   "file_extension": ".py",
   "mimetype": "text/x-python",
   "name": "python",
   "nbconvert_exporter": "python",
   "pygments_lexer": "ipython3",
   "version": "3.5.6"
  }
 },
 "nbformat": 4,
 "nbformat_minor": 2
}
